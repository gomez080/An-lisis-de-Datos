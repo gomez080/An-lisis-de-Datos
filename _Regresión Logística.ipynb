{
 "cells": [
  {
   "cell_type": "code",
   "execution_count": 2,
   "id": "22009c80-356c-4316-aa72-e2e11dc0b080",
   "metadata": {},
   "outputs": [],
   "source": [
    "# Importar Librerias\n",
    "\n",
    "import pandas as pd \n",
    "import numpy as np \n",
    "import seaborn as sns \n",
    "import matplotlib.pyplot as plt\n",
    "from sklearn import metrics\n",
    "from sklearn.model_selection import train_test_split\n",
    "from sklearn.linear_model import LogisticRegression\n",
    "from sklearn.metrics import classification_report, confusion_matrix\n",
    "from sklearn.metrics import RocCurveDisplay\n",
    "from sklearn.metrics import ConfusionMatrixDisplay"
   ]
  },
  {
   "cell_type": "code",
   "execution_count": 3,
   "id": "18b91500-961a-4914-bd57-4dfec5024501",
   "metadata": {},
   "outputs": [
    {
     "data": {
      "text/html": [
       "<div>\n",
       "<style scoped>\n",
       "    .dataframe tbody tr th:only-of-type {\n",
       "        vertical-align: middle;\n",
       "    }\n",
       "\n",
       "    .dataframe tbody tr th {\n",
       "        vertical-align: top;\n",
       "    }\n",
       "\n",
       "    .dataframe thead th {\n",
       "        text-align: right;\n",
       "    }\n",
       "</style>\n",
       "<table border=\"1\" class=\"dataframe\">\n",
       "  <thead>\n",
       "    <tr style=\"text-align: right;\">\n",
       "      <th></th>\n",
       "      <th>age</th>\n",
       "      <th>sex</th>\n",
       "      <th>cp</th>\n",
       "      <th>trestbps</th>\n",
       "      <th>chol</th>\n",
       "      <th>fbs</th>\n",
       "      <th>restecg</th>\n",
       "      <th>thalach</th>\n",
       "      <th>exang</th>\n",
       "      <th>oldpeak</th>\n",
       "      <th>slope</th>\n",
       "      <th>ca</th>\n",
       "      <th>thal</th>\n",
       "      <th>condition</th>\n",
       "    </tr>\n",
       "  </thead>\n",
       "  <tbody>\n",
       "    <tr>\n",
       "      <th>0</th>\n",
       "      <td>69</td>\n",
       "      <td>1</td>\n",
       "      <td>0</td>\n",
       "      <td>160</td>\n",
       "      <td>234</td>\n",
       "      <td>1</td>\n",
       "      <td>2</td>\n",
       "      <td>131</td>\n",
       "      <td>0</td>\n",
       "      <td>0.1</td>\n",
       "      <td>1</td>\n",
       "      <td>1</td>\n",
       "      <td>0</td>\n",
       "      <td>0</td>\n",
       "    </tr>\n",
       "    <tr>\n",
       "      <th>1</th>\n",
       "      <td>69</td>\n",
       "      <td>0</td>\n",
       "      <td>0</td>\n",
       "      <td>140</td>\n",
       "      <td>239</td>\n",
       "      <td>0</td>\n",
       "      <td>0</td>\n",
       "      <td>151</td>\n",
       "      <td>0</td>\n",
       "      <td>1.8</td>\n",
       "      <td>0</td>\n",
       "      <td>2</td>\n",
       "      <td>0</td>\n",
       "      <td>0</td>\n",
       "    </tr>\n",
       "    <tr>\n",
       "      <th>2</th>\n",
       "      <td>66</td>\n",
       "      <td>0</td>\n",
       "      <td>0</td>\n",
       "      <td>150</td>\n",
       "      <td>226</td>\n",
       "      <td>0</td>\n",
       "      <td>0</td>\n",
       "      <td>114</td>\n",
       "      <td>0</td>\n",
       "      <td>2.6</td>\n",
       "      <td>2</td>\n",
       "      <td>0</td>\n",
       "      <td>0</td>\n",
       "      <td>0</td>\n",
       "    </tr>\n",
       "    <tr>\n",
       "      <th>3</th>\n",
       "      <td>65</td>\n",
       "      <td>1</td>\n",
       "      <td>0</td>\n",
       "      <td>138</td>\n",
       "      <td>282</td>\n",
       "      <td>1</td>\n",
       "      <td>2</td>\n",
       "      <td>174</td>\n",
       "      <td>0</td>\n",
       "      <td>1.4</td>\n",
       "      <td>1</td>\n",
       "      <td>1</td>\n",
       "      <td>0</td>\n",
       "      <td>1</td>\n",
       "    </tr>\n",
       "    <tr>\n",
       "      <th>4</th>\n",
       "      <td>64</td>\n",
       "      <td>1</td>\n",
       "      <td>0</td>\n",
       "      <td>110</td>\n",
       "      <td>211</td>\n",
       "      <td>0</td>\n",
       "      <td>2</td>\n",
       "      <td>144</td>\n",
       "      <td>1</td>\n",
       "      <td>1.8</td>\n",
       "      <td>1</td>\n",
       "      <td>0</td>\n",
       "      <td>0</td>\n",
       "      <td>0</td>\n",
       "    </tr>\n",
       "    <tr>\n",
       "      <th>5</th>\n",
       "      <td>64</td>\n",
       "      <td>1</td>\n",
       "      <td>0</td>\n",
       "      <td>170</td>\n",
       "      <td>227</td>\n",
       "      <td>0</td>\n",
       "      <td>2</td>\n",
       "      <td>155</td>\n",
       "      <td>0</td>\n",
       "      <td>0.6</td>\n",
       "      <td>1</td>\n",
       "      <td>0</td>\n",
       "      <td>2</td>\n",
       "      <td>0</td>\n",
       "    </tr>\n",
       "    <tr>\n",
       "      <th>6</th>\n",
       "      <td>63</td>\n",
       "      <td>1</td>\n",
       "      <td>0</td>\n",
       "      <td>145</td>\n",
       "      <td>233</td>\n",
       "      <td>1</td>\n",
       "      <td>2</td>\n",
       "      <td>150</td>\n",
       "      <td>0</td>\n",
       "      <td>2.3</td>\n",
       "      <td>2</td>\n",
       "      <td>0</td>\n",
       "      <td>1</td>\n",
       "      <td>0</td>\n",
       "    </tr>\n",
       "    <tr>\n",
       "      <th>7</th>\n",
       "      <td>61</td>\n",
       "      <td>1</td>\n",
       "      <td>0</td>\n",
       "      <td>134</td>\n",
       "      <td>234</td>\n",
       "      <td>0</td>\n",
       "      <td>0</td>\n",
       "      <td>145</td>\n",
       "      <td>0</td>\n",
       "      <td>2.6</td>\n",
       "      <td>1</td>\n",
       "      <td>2</td>\n",
       "      <td>0</td>\n",
       "      <td>1</td>\n",
       "    </tr>\n",
       "    <tr>\n",
       "      <th>8</th>\n",
       "      <td>60</td>\n",
       "      <td>0</td>\n",
       "      <td>0</td>\n",
       "      <td>150</td>\n",
       "      <td>240</td>\n",
       "      <td>0</td>\n",
       "      <td>0</td>\n",
       "      <td>171</td>\n",
       "      <td>0</td>\n",
       "      <td>0.9</td>\n",
       "      <td>0</td>\n",
       "      <td>0</td>\n",
       "      <td>0</td>\n",
       "      <td>0</td>\n",
       "    </tr>\n",
       "    <tr>\n",
       "      <th>9</th>\n",
       "      <td>59</td>\n",
       "      <td>1</td>\n",
       "      <td>0</td>\n",
       "      <td>178</td>\n",
       "      <td>270</td>\n",
       "      <td>0</td>\n",
       "      <td>2</td>\n",
       "      <td>145</td>\n",
       "      <td>0</td>\n",
       "      <td>4.2</td>\n",
       "      <td>2</td>\n",
       "      <td>0</td>\n",
       "      <td>2</td>\n",
       "      <td>0</td>\n",
       "    </tr>\n",
       "  </tbody>\n",
       "</table>\n",
       "</div>"
      ],
      "text/plain": [
       "   age  sex  cp  trestbps  chol  fbs  restecg  thalach  exang  oldpeak  slope  \\\n",
       "0   69    1   0       160   234    1        2      131      0      0.1      1   \n",
       "1   69    0   0       140   239    0        0      151      0      1.8      0   \n",
       "2   66    0   0       150   226    0        0      114      0      2.6      2   \n",
       "3   65    1   0       138   282    1        2      174      0      1.4      1   \n",
       "4   64    1   0       110   211    0        2      144      1      1.8      1   \n",
       "5   64    1   0       170   227    0        2      155      0      0.6      1   \n",
       "6   63    1   0       145   233    1        2      150      0      2.3      2   \n",
       "7   61    1   0       134   234    0        0      145      0      2.6      1   \n",
       "8   60    0   0       150   240    0        0      171      0      0.9      0   \n",
       "9   59    1   0       178   270    0        2      145      0      4.2      2   \n",
       "\n",
       "   ca  thal  condition  \n",
       "0   1     0          0  \n",
       "1   2     0          0  \n",
       "2   0     0          0  \n",
       "3   1     0          1  \n",
       "4   0     0          0  \n",
       "5   0     2          0  \n",
       "6   0     1          0  \n",
       "7   2     0          1  \n",
       "8   0     0          0  \n",
       "9   0     2          0  "
      ]
     },
     "execution_count": 3,
     "metadata": {},
     "output_type": "execute_result"
    }
   ],
   "source": [
    "Datos = pd.read_csv('./heart_cleveland_upload.csv') # Se carga la base de datos \n",
    "Datos.head(10)"
   ]
  },
  {
   "cell_type": "code",
   "execution_count": 4,
   "id": "10feb344-ba15-4976-af29-c0e38c5c2daf",
   "metadata": {},
   "outputs": [
    {
     "data": {
      "text/html": [
       "<div>\n",
       "<style scoped>\n",
       "    .dataframe tbody tr th:only-of-type {\n",
       "        vertical-align: middle;\n",
       "    }\n",
       "\n",
       "    .dataframe tbody tr th {\n",
       "        vertical-align: top;\n",
       "    }\n",
       "\n",
       "    .dataframe thead th {\n",
       "        text-align: right;\n",
       "    }\n",
       "</style>\n",
       "<table border=\"1\" class=\"dataframe\">\n",
       "  <thead>\n",
       "    <tr style=\"text-align: right;\">\n",
       "      <th></th>\n",
       "      <th>age</th>\n",
       "      <th>sex</th>\n",
       "      <th>cp</th>\n",
       "      <th>trestbps</th>\n",
       "      <th>chol</th>\n",
       "      <th>fbs</th>\n",
       "      <th>restecg</th>\n",
       "      <th>thalach</th>\n",
       "      <th>exang</th>\n",
       "      <th>oldpeak</th>\n",
       "      <th>slope</th>\n",
       "      <th>ca</th>\n",
       "      <th>thal</th>\n",
       "      <th>condition</th>\n",
       "    </tr>\n",
       "  </thead>\n",
       "  <tbody>\n",
       "    <tr>\n",
       "      <th>count</th>\n",
       "      <td>297.000000</td>\n",
       "      <td>297.000000</td>\n",
       "      <td>297.000000</td>\n",
       "      <td>297.000000</td>\n",
       "      <td>297.000000</td>\n",
       "      <td>297.000000</td>\n",
       "      <td>297.000000</td>\n",
       "      <td>297.000000</td>\n",
       "      <td>297.000000</td>\n",
       "      <td>297.000000</td>\n",
       "      <td>297.000000</td>\n",
       "      <td>297.000000</td>\n",
       "      <td>297.000000</td>\n",
       "      <td>297.000000</td>\n",
       "    </tr>\n",
       "    <tr>\n",
       "      <th>mean</th>\n",
       "      <td>54.542088</td>\n",
       "      <td>0.676768</td>\n",
       "      <td>2.158249</td>\n",
       "      <td>131.693603</td>\n",
       "      <td>247.350168</td>\n",
       "      <td>0.144781</td>\n",
       "      <td>0.996633</td>\n",
       "      <td>149.599327</td>\n",
       "      <td>0.326599</td>\n",
       "      <td>1.055556</td>\n",
       "      <td>0.602694</td>\n",
       "      <td>0.676768</td>\n",
       "      <td>0.835017</td>\n",
       "      <td>0.461279</td>\n",
       "    </tr>\n",
       "    <tr>\n",
       "      <th>std</th>\n",
       "      <td>9.049736</td>\n",
       "      <td>0.468500</td>\n",
       "      <td>0.964859</td>\n",
       "      <td>17.762806</td>\n",
       "      <td>51.997583</td>\n",
       "      <td>0.352474</td>\n",
       "      <td>0.994914</td>\n",
       "      <td>22.941562</td>\n",
       "      <td>0.469761</td>\n",
       "      <td>1.166123</td>\n",
       "      <td>0.618187</td>\n",
       "      <td>0.938965</td>\n",
       "      <td>0.956690</td>\n",
       "      <td>0.499340</td>\n",
       "    </tr>\n",
       "    <tr>\n",
       "      <th>min</th>\n",
       "      <td>29.000000</td>\n",
       "      <td>0.000000</td>\n",
       "      <td>0.000000</td>\n",
       "      <td>94.000000</td>\n",
       "      <td>126.000000</td>\n",
       "      <td>0.000000</td>\n",
       "      <td>0.000000</td>\n",
       "      <td>71.000000</td>\n",
       "      <td>0.000000</td>\n",
       "      <td>0.000000</td>\n",
       "      <td>0.000000</td>\n",
       "      <td>0.000000</td>\n",
       "      <td>0.000000</td>\n",
       "      <td>0.000000</td>\n",
       "    </tr>\n",
       "    <tr>\n",
       "      <th>25%</th>\n",
       "      <td>48.000000</td>\n",
       "      <td>0.000000</td>\n",
       "      <td>2.000000</td>\n",
       "      <td>120.000000</td>\n",
       "      <td>211.000000</td>\n",
       "      <td>0.000000</td>\n",
       "      <td>0.000000</td>\n",
       "      <td>133.000000</td>\n",
       "      <td>0.000000</td>\n",
       "      <td>0.000000</td>\n",
       "      <td>0.000000</td>\n",
       "      <td>0.000000</td>\n",
       "      <td>0.000000</td>\n",
       "      <td>0.000000</td>\n",
       "    </tr>\n",
       "    <tr>\n",
       "      <th>50%</th>\n",
       "      <td>56.000000</td>\n",
       "      <td>1.000000</td>\n",
       "      <td>2.000000</td>\n",
       "      <td>130.000000</td>\n",
       "      <td>243.000000</td>\n",
       "      <td>0.000000</td>\n",
       "      <td>1.000000</td>\n",
       "      <td>153.000000</td>\n",
       "      <td>0.000000</td>\n",
       "      <td>0.800000</td>\n",
       "      <td>1.000000</td>\n",
       "      <td>0.000000</td>\n",
       "      <td>0.000000</td>\n",
       "      <td>0.000000</td>\n",
       "    </tr>\n",
       "    <tr>\n",
       "      <th>75%</th>\n",
       "      <td>61.000000</td>\n",
       "      <td>1.000000</td>\n",
       "      <td>3.000000</td>\n",
       "      <td>140.000000</td>\n",
       "      <td>276.000000</td>\n",
       "      <td>0.000000</td>\n",
       "      <td>2.000000</td>\n",
       "      <td>166.000000</td>\n",
       "      <td>1.000000</td>\n",
       "      <td>1.600000</td>\n",
       "      <td>1.000000</td>\n",
       "      <td>1.000000</td>\n",
       "      <td>2.000000</td>\n",
       "      <td>1.000000</td>\n",
       "    </tr>\n",
       "    <tr>\n",
       "      <th>max</th>\n",
       "      <td>77.000000</td>\n",
       "      <td>1.000000</td>\n",
       "      <td>3.000000</td>\n",
       "      <td>200.000000</td>\n",
       "      <td>564.000000</td>\n",
       "      <td>1.000000</td>\n",
       "      <td>2.000000</td>\n",
       "      <td>202.000000</td>\n",
       "      <td>1.000000</td>\n",
       "      <td>6.200000</td>\n",
       "      <td>2.000000</td>\n",
       "      <td>3.000000</td>\n",
       "      <td>2.000000</td>\n",
       "      <td>1.000000</td>\n",
       "    </tr>\n",
       "  </tbody>\n",
       "</table>\n",
       "</div>"
      ],
      "text/plain": [
       "              age         sex          cp    trestbps        chol         fbs  \\\n",
       "count  297.000000  297.000000  297.000000  297.000000  297.000000  297.000000   \n",
       "mean    54.542088    0.676768    2.158249  131.693603  247.350168    0.144781   \n",
       "std      9.049736    0.468500    0.964859   17.762806   51.997583    0.352474   \n",
       "min     29.000000    0.000000    0.000000   94.000000  126.000000    0.000000   \n",
       "25%     48.000000    0.000000    2.000000  120.000000  211.000000    0.000000   \n",
       "50%     56.000000    1.000000    2.000000  130.000000  243.000000    0.000000   \n",
       "75%     61.000000    1.000000    3.000000  140.000000  276.000000    0.000000   \n",
       "max     77.000000    1.000000    3.000000  200.000000  564.000000    1.000000   \n",
       "\n",
       "          restecg     thalach       exang     oldpeak       slope          ca  \\\n",
       "count  297.000000  297.000000  297.000000  297.000000  297.000000  297.000000   \n",
       "mean     0.996633  149.599327    0.326599    1.055556    0.602694    0.676768   \n",
       "std      0.994914   22.941562    0.469761    1.166123    0.618187    0.938965   \n",
       "min      0.000000   71.000000    0.000000    0.000000    0.000000    0.000000   \n",
       "25%      0.000000  133.000000    0.000000    0.000000    0.000000    0.000000   \n",
       "50%      1.000000  153.000000    0.000000    0.800000    1.000000    0.000000   \n",
       "75%      2.000000  166.000000    1.000000    1.600000    1.000000    1.000000   \n",
       "max      2.000000  202.000000    1.000000    6.200000    2.000000    3.000000   \n",
       "\n",
       "             thal   condition  \n",
       "count  297.000000  297.000000  \n",
       "mean     0.835017    0.461279  \n",
       "std      0.956690    0.499340  \n",
       "min      0.000000    0.000000  \n",
       "25%      0.000000    0.000000  \n",
       "50%      0.000000    0.000000  \n",
       "75%      2.000000    1.000000  \n",
       "max      2.000000    1.000000  "
      ]
     },
     "execution_count": 4,
     "metadata": {},
     "output_type": "execute_result"
    }
   ],
   "source": [
    "# Muestra la información de la base de datos\n",
    "Datos.describe()"
   ]
  },
  {
   "cell_type": "code",
   "execution_count": 5,
   "id": "21a3b0b7-8a14-423a-b31e-69829805e68e",
   "metadata": {},
   "outputs": [
    {
     "name": "stdout",
     "output_type": "stream",
     "text": [
      "Cantidad de Registros con cero en Resultado electrocardiograma:  147\n",
      "Cantidad de Registros con cero en Depresión:  96\n",
      "Cantidad de Registros con cero en Pendiente test de depresión:  139\n",
      "Cantidad de Registros con cero en Número de vasos principales:  174\n",
      "Cantidad de Registros con cero en Talasemia:  164\n"
     ]
    },
    {
     "data": {
      "image/png": "[encoded data removed]",
      "text/plain": [
       "<Figure size 600x300 with 1 Axes>"
      ]
     },
     "metadata": {},
     "output_type": "display_data"
    }
   ],
   "source": [
    "# Creamos una figura\n",
    "plt.figure(figsize=(6, 3))\n",
    "\n",
    "# Creamos un grafico para ver la distribucion del colesterol\n",
    "sns.boxplot(x=Datos['chol'])\n",
    "plt.title('Identificación de Datos Faltantes y Atípicos', fontsize=10)\n",
    "\n",
    "# Observamos la cantidad de registros\n",
    "print(\"Cantidad de Registros con cero en Resultado electrocardiograma: \", Datos['restecg'].isin([0]).sum())\n",
    "print(\"Cantidad de Registros con cero en Depresión: \", Datos['oldpeak'].isin([0]).sum())\n",
    "print(\"Cantidad de Registros con cero en Pendiente test de depresión: \", Datos['slope'].isin([0]).sum())\n",
    "print(\"Cantidad de Registros con cero en Número de vasos principales: \", Datos['ca'].isin([0]).sum())\n",
    "print(\"Cantidad de Registros con cero en Talasemia: \", Datos['thal'].isin([0]).sum())"
   ]
  },
  {
   "cell_type": "code",
   "execution_count": 6,
   "id": "74cb97a9-df0a-4063-8b61-911d6eb387b1",
   "metadata": {},
   "outputs": [
    {
     "name": "stdout",
     "output_type": "stream",
     "text": [
      "Cantidad de Registros con cero en Resultado electrocardiograma:  0\n",
      "Cantidad de Registros con cero en Depresión:  0\n",
      "Cantidad de Registros con cero en Pendiente test de depresión:  0\n",
      "Cantidad de Registros con cero en Número de vasos principales:  0\n",
      "Cantidad de Registros con cero en Talasemia:  0\n"
     ]
    }
   ],
   "source": [
    "# Reemplazamos los valores en 0 por la media de cada columna\n",
    "Datos['restecg'] = Datos['restecg'].replace(0, Datos['restecg'].mean())\n",
    "Datos['oldpeak'] = Datos['oldpeak'].replace(0, Datos['oldpeak'].mean())\n",
    "Datos['slope'] = Datos['slope'].replace(0, Datos['slope'].mean())\n",
    "Datos['ca'] = Datos['ca'].replace(0, Datos['ca'].mean())\n",
    "Datos['thal'] = Datos['thal'].replace(0, Datos['thal'].mean())\n",
    "\n",
    "# Observamos que ya no hay ningún valor en 0 en las columnas de la base de datos\n",
    "print(\"Cantidad de Registros con cero en Resultado electrocardiograma: \", Datos['restecg'].isin([0]).sum())\n",
    "print(\"Cantidad de Registros con cero en Depresión: \", Datos['oldpeak'].isin([0]).sum())\n",
    "print(\"Cantidad de Registros con cero en Pendiente test de depresión: \", Datos['slope'].isin([0]).sum())\n",
    "print(\"Cantidad de Registros con cero en Número de vasos principales: \", Datos['ca'].isin([0]).sum())\n",
    "print(\"Cantidad de Registros con cero en Talasemia: \", Datos['thal'].isin([0]).sum())"
   ]
  },
  {
   "cell_type": "code",
   "execution_count": 7,
   "id": "09e29a7e-dd50-443b-a335-8fa4ea3c283b",
   "metadata": {},
   "outputs": [
    {
     "data": {
      "image/png": "[encoded data removed]",
      "text/plain": [
       "<Figure size 600x300 with 1 Axes>"
      ]
     },
     "metadata": {},
     "output_type": "display_data"
    }
   ],
   "source": [
    "# Creamos un gráfico para observar la distribución de la variable Ritmo cardíaco máximo\n",
    "plt.figure(figsize=(6, 3))\n",
    "sns.boxplot(x=Datos['thalach'])\n",
    "plt.title('Identificación de Datos Atípicos - Ritmo Cardíaco Máximo', fontsize=10)\n",
    "plt.show()"
   ]
  },
  {
   "cell_type": "code",
   "execution_count": 8,
   "id": "36028198-9630-46e8-bafa-e6eeda45c145",
   "metadata": {},
   "outputs": [
    {
     "name": "stdout",
     "output_type": "stream",
     "text": [
      "El total de datos atípicos es 9\n"
     ]
    }
   ],
   "source": [
    "# Definimos los niveles mínimo y máximo del ritmo cardíaco\n",
    "nivel_minimo = 100\n",
    "nivel_maximo = 200\n",
    "\n",
    "# Observamos la cantidad de datos atípicos en la variable Ritmo cardíaco máximo\n",
    "Total_Atipicos = ((Datos['thalach'] < nivel_minimo) | (Datos['thalach'] > nivel_maximo)).sum()\n",
    "print(\"El total de datos atípicos es {}\".format(Total_Atipicos))"
   ]
  },
  {
   "cell_type": "code",
   "execution_count": 9,
   "id": "21a3422c-7722-4c07-98f2-610fe1d3952c",
   "metadata": {},
   "outputs": [
    {
     "name": "stdout",
     "output_type": "stream",
     "text": [
      "Tamaño del dataset después de eliminar datos atípicos:  (288, 14)\n"
     ]
    }
   ],
   "source": [
    "# Eliminamos los datos atípicos\n",
    "Datos = Datos[(Datos['thalach'] < nivel_maximo) & (Datos['thalach'] > nivel_minimo)]\n",
    "\n",
    "# Verificamos el tamaño del nuevo dataset\n",
    "print(\"Tamaño del dataset después de eliminar datos atípicos: \", Datos.shape)"
   ]
  },
  {
   "cell_type": "code",
   "execution_count": 10,
   "id": "7d180d82-f10d-4b10-80f8-026326c6d445",
   "metadata": {},
   "outputs": [
    {
     "name": "stdout",
     "output_type": "stream",
     "text": [
      "El total de datos atípicos es 0\n"
     ]
    }
   ],
   "source": [
    "# Observamos nuevamente la cantidad de datos atípicos en la variable Ritmo cardíaco máximo\n",
    "Total_Atipicos = ((Datos['thalach'] < nivel_minimo) | (Datos['thalach'] > nivel_maximo)).sum()\n",
    "print(\"El total de datos atípicos es {}\".format(Total_Atipicos))"
   ]
  },
  {
   "cell_type": "code",
   "execution_count": 11,
   "id": "41237d6d-91bf-4b02-a61e-209aa58e0751",
   "metadata": {},
   "outputs": [
    {
     "name": "stdout",
     "output_type": "stream",
     "text": [
      "<class 'pandas.core.frame.DataFrame'>\n",
      "Index: 288 entries, 0 to 296\n",
      "Data columns (total 14 columns):\n",
      " #   Column     Non-Null Count  Dtype  \n",
      "---  ------     --------------  -----  \n",
      " 0   age        288 non-null    int64  \n",
      " 1   sex        288 non-null    int64  \n",
      " 2   cp         288 non-null    int64  \n",
      " 3   trestbps   288 non-null    int64  \n",
      " 4   chol       288 non-null    int64  \n",
      " 5   fbs        288 non-null    int64  \n",
      " 6   restecg    288 non-null    float64\n",
      " 7   thalach    288 non-null    int64  \n",
      " 8   exang      288 non-null    int64  \n",
      " 9   oldpeak    288 non-null    float64\n",
      " 10  slope      288 non-null    float64\n",
      " 11  ca         288 non-null    float64\n",
      " 12  thal       288 non-null    float64\n",
      " 13  condition  288 non-null    int64  \n",
      "dtypes: float64(5), int64(9)\n",
      "memory usage: 33.8 KB\n"
     ]
    }
   ],
   "source": [
    "# Observamos la informacion de la base de datos\n",
    "Datos.info()"
   ]
  },
  {
   "cell_type": "code",
   "execution_count": 12,
   "id": "2db29efd-c805-41dd-b1d4-60a04f34e126",
   "metadata": {},
   "outputs": [
    {
     "data": {
      "text/plain": [
       "condition\n",
       "0    158\n",
       "1    130\n",
       "Name: count, dtype: int64"
      ]
     },
     "execution_count": 12,
     "metadata": {},
     "output_type": "execute_result"
    }
   ],
   "source": [
    "# Realizamos un conteo de cada valor de la variable Diagnóstico de enfermedad cardíaca\n",
    "Datos['condition'].value_counts()"
   ]
  },
  {
   "cell_type": "code",
   "execution_count": 13,
   "id": "e53c2930-645f-4d6e-86ab-0e5834d51d30",
   "metadata": {},
   "outputs": [
    {
     "name": "stdout",
     "output_type": "stream",
     "text": [
      "     age  sex  cp  trestbps  chol  fbs   restecg  thalach  exang   oldpeak  \\\n",
      "131   48    1   2       124   255    1  0.996633      175      0  1.055556   \n",
      "142   43    0   2       122   213    0  0.996633      165      0  0.200000   \n",
      "244   54    1   3       124   266    0  2.000000      109      1  2.200000   \n",
      "26    66    1   1       160   246    0  0.996633      120      1  1.055556   \n",
      "54    46    1   1       101   197    1  0.996633      156      0  1.055556   \n",
      "..   ...  ...  ..       ...   ...  ...       ...      ...    ...       ...   \n",
      "172   65    1   3       120   177    0  0.996633      140      0  0.400000   \n",
      "267   48    1   3       124   274    0  2.000000      166      0  0.500000   \n",
      "180   63    0   3       150   407    0  2.000000      154      0  4.000000   \n",
      "277   45    1   3       142   309    0  2.000000      147      1  1.055556   \n",
      "233   57    1   3       132   207    0  0.996633      168      1  1.055556   \n",
      "\n",
      "        slope        ca      thal  \n",
      "131  0.602694  2.000000  0.835017  \n",
      "142  1.000000  0.676768  0.835017  \n",
      "244  1.000000  1.000000  2.000000  \n",
      "26   1.000000  3.000000  1.000000  \n",
      "54   0.602694  0.676768  2.000000  \n",
      "..        ...       ...       ...  \n",
      "172  0.602694  0.676768  2.000000  \n",
      "267  1.000000  0.676768  2.000000  \n",
      "180  1.000000  3.000000  2.000000  \n",
      "277  1.000000  3.000000  2.000000  \n",
      "233  0.602694  0.676768  2.000000  \n",
      "\n",
      "[216 rows x 13 columns]\n"
     ]
    }
   ],
   "source": [
    "# Definimos cuál es la variable dependiente y el conjunto de características\n",
    "X = Datos.drop('condition', axis=1)\n",
    "Y = Datos['condition']  \n",
    "\n",
    "# Dividimos la base de datos en entrenamiento y prueba\n",
    "X_train, X_test, Y_train, Y_test = train_test_split(X, Y, test_size=0.25, stratify=Y, random_state=0)\n",
    "\n",
    "# Imprimimos el conjunto de características de entrenamiento\n",
    "print(X_train)"
   ]
  },
  {
   "cell_type": "code",
   "execution_count": 14,
   "id": "f5e05f4b-81a8-4d58-bb0f-e3ddc52ef8fe",
   "metadata": {},
   "outputs": [
    {
     "name": "stdout",
     "output_type": "stream",
     "text": [
      "131    0\n",
      "142    0\n",
      "244    1\n",
      "26     1\n",
      "54     0\n",
      "      ..\n",
      "172    0\n",
      "267    1\n",
      "180    1\n",
      "277    1\n",
      "233    0\n",
      "Name: condition, Length: 216, dtype: int64\n"
     ]
    }
   ],
   "source": [
    "# Imprimimos los datos de la variable dependiente de entrenamiento\n",
    "print(Y_train)"
   ]
  },
  {
   "cell_type": "code",
   "execution_count": 15,
   "id": "f6dc7def-06d7-4905-8ba7-db95ee92cf17",
   "metadata": {},
   "outputs": [
    {
     "name": "stdout",
     "output_type": "stream",
     "text": [
      "Valores reales de la variable dependiente en el conjunto de prueba:\n",
      "276    0\n",
      "119    0\n",
      "253    0\n",
      "220    1\n",
      "285    0\n",
      "      ..\n",
      "74     1\n",
      "139    0\n",
      "110    0\n",
      "224    1\n",
      "105    0\n",
      "Name: condition, Length: 72, dtype: int64\n"
     ]
    }
   ],
   "source": [
    "# Creamos el modelo de regresión logística\n",
    "modelo_regresion = LogisticRegression(solver=\"liblinear\")\n",
    "modelo_regresion.fit(X_train, Y_train) \n",
    "\n",
    "# Realizamos la predicción\n",
    "Prediccion = modelo_regresion.predict(X_test)\n",
    "\n",
    "# Imprimimos los valores de la variable dependiente de prueba\n",
    "print(\"Valores reales de la variable dependiente en el conjunto de prueba:\")\n",
    "print(Y_test)"
   ]
  },
  {
   "cell_type": "code",
   "execution_count": 16,
   "id": "380cb586-36eb-423d-b79f-419ac6dca5b0",
   "metadata": {},
   "outputs": [
    {
     "name": "stdout",
     "output_type": "stream",
     "text": [
      "Predicciones realizadas por el modelo:\n",
      "[0 0 0 1 0 1 1 1 0 0 0 1 1 1 0 1 0 0 0 0 0 1 0 0 0 1 0 0 1 0 1 1 1 0 1 0 1\n",
      " 0 0 0 1 0 0 1 0 0 0 0 1 0 0 1 0 0 1 0 0 0 0 1 1 1 1 0 1 1 0 1 0 0 1 0]\n"
     ]
    }
   ],
   "source": [
    "# Mostramos la predicción realizada por el modelo\n",
    "print(\"Predicciones realizadas por el modelo:\")\n",
    "print(Prediccion)"
   ]
  },
  {
   "cell_type": "code",
   "execution_count": 17,
   "id": "604ef0f0-dfe5-4730-a2ad-65744104fc37",
   "metadata": {
    "scrolled": true
   },
   "outputs": [
    {
     "name": "stdout",
     "output_type": "stream",
     "text": [
      "Informe de clasificación:\n",
      "              precision    recall  f1-score   support\n",
      "\n",
      "           0       0.84      0.92      0.88        39\n",
      "           1       0.90      0.79      0.84        33\n",
      "\n",
      "    accuracy                           0.86        72\n",
      "   macro avg       0.87      0.86      0.86        72\n",
      "weighted avg       0.86      0.86      0.86        72\n",
      "\n"
     ]
    }
   ],
   "source": [
    "# Imprimimos el informe de clasificación\n",
    "print(\"Informe de clasificación:\")\n",
    "print(classification_report(Y_test, Prediccion))"
   ]
  },
  {
   "cell_type": "code",
   "execution_count": 27,
   "id": "2beeb31e-e7e0-4f55-8c45-e4667522ad02",
   "metadata": {},
   "outputs": [
    {
     "data": {
      "image/png": "[encoded data removed]",
      "text/plain": [
       "<Figure size 640x480 with 2 Axes>"
      ]
     },
     "metadata": {},
     "output_type": "display_data"
    }
   ],
   "source": [
    "# Creamos la matriz de confusión\n",
    "cm = confusion_matrix(Y_test, Prediccion)\n",
    "\n",
    "# Creamos un objeto para mostrar la matriz de confusión\n",
    "disp = ConfusionMatrixDisplay(confusion_matrix=cm)\n",
    "\n",
    "disp.plot(cmap='Greens') \n",
    "plt.show()  "
   ]
  },
  {
   "cell_type": "code",
   "execution_count": 28,
   "id": "0d5de6cd-96f6-4a85-a721-8d08a88ee157",
   "metadata": {},
   "outputs": [
    {
     "data": {
      "image/png": "[encoded data removed]",
      "text/plain": [
       "<Figure size 640x480 with 1 Axes>"
      ]
     },
     "metadata": {},
     "output_type": "display_data"
    }
   ],
   "source": [
    "# Creamos la curva ROC\n",
    "RocCurveDisplay.from_predictions(Y_test, Prediccion)\n",
    "plt.show()"
   ]
  },
  {
   "cell_type": "code",
   "execution_count": null,
   "id": "85d21882-7124-49a4-8a03-e0ec870b5e98",
   "metadata": {},
   "outputs": [],
   "source": []
  }
 ],
 "metadata": {
  "kernelspec": {
   "display_name": "Python 3 (ipykernel)",
   "language": "python",
   "name": "python3"
  },
  "language_info": {
   "codemirror_mode": {
    "name": "ipython",
    "version": 3
   },
   "file_extension": ".py",
   "mimetype": "text/x-python",
   "name": "python",
   "nbconvert_exporter": "python",
   "pygments_lexer": "ipython3",
   "version": "3.12.4"
  }
 },
 "nbformat": 4,
 "nbformat_minor": 5
}
